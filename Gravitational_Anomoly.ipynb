{
 "cells": [
  {
   "cell_type": "code",
   "execution_count": 1,
   "metadata": {},
   "outputs": [],
   "source": [
    "import torch"
   ]
  },
  {
   "cell_type": "code",
   "execution_count": 2,
   "metadata": {},
   "outputs": [],
   "source": [
    "import numpy as np\n",
    "import os\n",
    "from matplotlib import pyplot as plt"
   ]
  },
  {
   "cell_type": "code",
   "execution_count": 3,
   "metadata": {},
   "outputs": [],
   "source": [
    "\n",
    "background = np.load(os.path.join('/Users/mariea/Desktop/GW3_AnomalyDetection/background.npz'))['data']\n",
    "sglf = np.load(os.path.join('/Users/mariea/Desktop/GW3_AnomalyDetection/sglf_for_challenge.npy'))\n",
    "bbh = np.load(os.path.join('/Users/mariea/Desktop/GW3_AnomalyDetection/bbh_for_challenge.npy'))"
   ]
  },
  {
   "cell_type": "code",
   "execution_count": null,
   "metadata": {},
   "outputs": [],
   "source": []
  },
  {
   "cell_type": "code",
   "execution_count": 4,
   "metadata": {},
   "outputs": [],
   "source": [
    "signal = np.concatenate((sglf, bbh), axis=0)\n",
    "\n",
    "anomaly_class = {'noise': 0,'signal': 1}\n",
    "\n",
    "background_ids = np.full(background.shape[0], anomaly_class['noise'], dtype=int)\n",
    "signal_ids = np.full(signal.shape[0], anomaly_class['signal'], dtype=int)\n",
    "\n",
    "x_data = np.concatenate((background, signal), axis=0).reshape((-1,200,2))\n",
    "y_data = np.concatenate((background_ids, signal_ids), axis=0)"
   ]
  },
  {
   "cell_type": "code",
   "execution_count": 5,
   "metadata": {},
   "outputs": [
    {
     "name": "stdout",
     "output_type": "stream",
     "text": [
      "(300000, 200, 2)\n",
      "(300000,)\n"
     ]
    }
   ],
   "source": [
    "\n",
    "print(x_data.shape)\n",
    "print(y_data.shape)"
   ]
  },
  {
   "cell_type": "code",
   "execution_count": 6,
   "metadata": {},
   "outputs": [
    {
     "data": {
      "text/plain": [
       "150000.0"
      ]
     },
     "execution_count": 6,
     "metadata": {},
     "output_type": "execute_result"
    }
   ],
   "source": [
    "300000/2"
   ]
  },
  {
   "cell_type": "code",
   "execution_count": 7,
   "metadata": {},
   "outputs": [
    {
     "name": "stdout",
     "output_type": "stream",
     "text": [
      "(300000, 200, 2)\n"
     ]
    }
   ],
   "source": [
    "#Scaling data \n",
    "from sklearn.preprocessing import StandardScaler\n",
    "\n",
    "scaler = StandardScaler()\n",
    "num, points, depth = x_data.shape\n",
    "flattened_data = x_data.reshape(num, -1)\n",
    "scaled_data = scaler.fit_transform(flattened_data).reshape(num, points, depth)\n",
    "\n",
    "print(scaled_data.shape)\n",
    "\n"
   ]
  },
  {
   "cell_type": "code",
   "execution_count": 8,
   "metadata": {},
   "outputs": [],
   "source": [
    "#Shuffeling data \n",
    "from sklearn.utils import shuffle\n",
    "from sklearn.model_selection import train_test_split\n",
    "scaled_data, y_data = shuffle(scaled_data, y_data, random_state=47)\n",
    "scaled_data = scaled_data\n",
    "y_data = y_data"
   ]
  },
  {
   "cell_type": "code",
   "execution_count": 9,
   "metadata": {},
   "outputs": [
    {
     "name": "stdout",
     "output_type": "stream",
     "text": [
      "[0 0 1 1 1 1 1 1 1 1 1 0 0 1 1 1 1 1 0 0 0 1 1 1 1 1 1 1 0 1 1 1 0 1 0 1 0\n",
      " 0 1 1 1 1 1 1 1 0 1 0 1 1 0 1 0 1 1 0 1 0 1 0 1 1 0 1 0 0 1 0 0 0 0 1 1 1\n",
      " 0 0 1 1 0 0 1 1 1 1 1 0 1 1 1 0 1 1 0 1 1 0 1 1 1 0]\n"
     ]
    }
   ],
   "source": [
    "\n",
    "print(y_data[:100])"
   ]
  },
  {
   "cell_type": "code",
   "execution_count": 10,
   "metadata": {},
   "outputs": [],
   "source": [
    "#Data Augmentation\n",
    "noise_factor = 0.2\n",
    "noise = np.random.randn(*scaled_data.shape) * noise_factor\n",
    "augmented_data = scaled_data + noise"
   ]
  },
  {
   "cell_type": "code",
   "execution_count": 11,
   "metadata": {},
   "outputs": [
    {
     "name": "stdout",
     "output_type": "stream",
     "text": [
      "(210000, 200, 2) (210000,)\n",
      "(90000, 200, 2) (90000,)\n"
     ]
    }
   ],
   "source": [
    "\n",
    "\n",
    "#Splitting data\n",
    "\n",
    "train_x, val_x, train_y, val_y = train_test_split(scaled_data, y_data, test_size=0.3, random_state=13)\n",
    "\n",
    "print(train_x.shape, train_y.shape)\n",
    "print(val_x.shape, val_y.shape)"
   ]
  },
  {
   "cell_type": "code",
   "execution_count": 12,
   "metadata": {},
   "outputs": [
    {
     "name": "stdout",
     "output_type": "stream",
     "text": [
      "torch.Size([210000, 200, 2]) torch.Size([210000, 1])\n",
      "torch.Size([90000, 200, 2]) torch.Size([90000, 1])\n"
     ]
    }
   ],
   "source": [
    "# Reshaping data for tensors\n",
    "train_x = torch.tensor(train_x, dtype=torch.float32)\n",
    "train_y = torch.tensor(train_y, dtype=torch.float32).unsqueeze(1)\n",
    "\n",
    "val_x = torch.tensor(val_x, dtype=torch.float32)\n",
    "val_y = torch.tensor(val_y, dtype=torch.float32).unsqueeze(1)\n",
    "print(train_x.shape, train_y.shape)\n",
    "print(val_x.shape, val_y.shape)"
   ]
  },
  {
   "cell_type": "code",
   "execution_count": 13,
   "metadata": {},
   "outputs": [],
   "source": [
    "batchSize = 1000\n",
    "\n",
    "train_batches_x = torch.split(train_x, batchSize)\n",
    "train_batches_y = torch.split(train_y, batchSize)\n",
    "batch_split_num = len(train_batches_x)\n",
    "\n",
    "#Splitting validation so model doesn't overload itself when checking val_accuracy\n",
    "\n",
    "val_batches_x = torch.split(val_x, batchSize)\n",
    "val_batches_y = torch.split(val_y, batchSize)\n",
    "\n",
    "val_batch_split = len(val_batches_x)\n",
    "\n"
   ]
  },
  {
   "cell_type": "code",
   "execution_count": 14,
   "metadata": {},
   "outputs": [
    {
     "name": "stdout",
     "output_type": "stream",
     "text": [
      "210\n"
     ]
    }
   ],
   "source": [
    "print(batch_split_num)"
   ]
  },
  {
   "cell_type": "code",
   "execution_count": 15,
   "metadata": {},
   "outputs": [
    {
     "name": "stdout",
     "output_type": "stream",
     "text": [
      "torch.Size([1000, 200, 2])\n"
     ]
    }
   ],
   "source": [
    "print(train_batches_x[0].shape)"
   ]
  },
  {
   "cell_type": "markdown",
   "metadata": {},
   "source": [
    "MODEL Defining"
   ]
  },
  {
   "cell_type": "code",
   "execution_count": 16,
   "metadata": {},
   "outputs": [],
   "source": [
    "#Deeper learning and allows model to keep connections\n",
    "class ResidualBlock(torch.nn.Module):\n",
    "    def __init__(self, in_channels, out_channels, stride=1):\n",
    "        super(ResidualBlock, self).__init__()\n",
    "        self.layer1 = torch.nn.Conv1d(in_channels, out_channels, kernel_size=3, stride=stride, padding=1)\n",
    "        self.layer2 = torch.nn.BatchNorm1d(out_channels)\n",
    "        self.relu = torch.nn.ReLU()\n",
    "        self.layer3 = torch.nn.Conv1d(out_channels, out_channels, kernel_size=3, padding=1)\n",
    "        self.layer4 = torch.nn.BatchNorm1d(out_channels)\n",
    "\n",
    "        self.downsample = None\n",
    "        if stride != 1 or in_channels != out_channels:\n",
    "            self.downsample = torch.nn.Sequential(\n",
    "                torch.nn.Conv1d(in_channels, out_channels, kernel_size=1, stride=stride),\n",
    "                torch.nn.BatchNorm1d(out_channels)\n",
    "            )\n",
    "\n",
    "    def forward(self, x):\n",
    "        identity = x  \n",
    "\n",
    "        \n",
    "        out = self.layer1(x)\n",
    "        out = self.layer2(out)\n",
    "        out = self.relu(out)\n",
    "\n",
    "       \n",
    "        out = self.layer3(out)\n",
    "        out = self.layer4(out)\n",
    "\n",
    "        \n",
    "        if self.downsample is not None:\n",
    "            identity = self.downsample(x)\n",
    "\n",
    "        out += identity\n",
    "        out = self.relu(out)\n",
    "\n",
    "        return out\n"
   ]
  },
  {
   "cell_type": "code",
   "execution_count": 17,
   "metadata": {},
   "outputs": [],
   "source": [
    "\n",
    "#Make sure to run RB\n",
    "class AttentionModel(torch.nn.Module):\n",
    "    def __init__(self, input_dim, embed_dim, num_heads):\n",
    "        super(AttentionModel, self).__init__()\n",
    "        self.layer1 = torch.nn.Conv1d(input_dim, 1024, kernel_size=1)\n",
    "        self.layer2 = torch.nn.BatchNorm1d(1024)\n",
    "        self.layer2_activation = torch.nn.ReLU()\n",
    "        self.dropOut1 = torch.nn.Dropout(0.15)\n",
    "\n",
    "        self.res_block1 = ResidualBlock(1024, 1024)  # Residual block 1\n",
    "\n",
    "        self.layer4 = torch.nn.Conv1d(1024, 512, kernel_size=1)\n",
    "        self.layer5 = torch.nn.BatchNorm1d(512)\n",
    "        self.layer5_activation = torch.nn.ReLU()\n",
    "        self.dropOut2 = torch.nn.Dropout(0.15)\n",
    "\n",
    "        self.res_block2 = ResidualBlock(512, 512)  \n",
    "\n",
    "        self.layer6 = torch.nn.Conv1d(512, 256, kernel_size=1)\n",
    "        self.layer7 = torch.nn.BatchNorm1d(256)\n",
    "        self.layer7_activation = torch.nn.ReLU()\n",
    "        self.dropOut3 = torch.nn.Dropout(0.15)\n",
    "\n",
    "        #self.res_block3 = ResidualBlock(256, 256)\n",
    "        \"\"\"\n",
    "        self.layer65 = torch.nn.Conv1d(256, 128, kernel_size=1)\n",
    "        self.layer75 = torch.nn.BatchNorm1d(128)\n",
    "        self.layer75_activation = torch.nn.ReLU()\n",
    "        self.dropOut4 = torch.nn.Dropout(0.15)\n",
    "        \"\"\"\n",
    "        self.global_avg_pool = torch.nn.AdaptiveAvgPool1d(1)\n",
    "\n",
    "        self.attention = torch.nn.MultiheadAttention(embed_dim=embed_dim, num_heads=num_heads)\n",
    "\n",
    "        self.layer8 = torch.nn.Linear(128*2, 64*2)\n",
    "        self.layer8_activation = torch.nn.ReLU()\n",
    "        self.dropOut4 = torch.nn.Dropout(0.15)\n",
    "\n",
    "        self.fc1 = torch.nn.Linear(64*2, 32*2)\n",
    "        self.fc1_activation = torch.nn.ReLU()\n",
    "        self.fc1_dropout = torch.nn.Dropout(0.15)\n",
    "\n",
    "        self.fc2 = torch.nn.Linear(32*2, 16*2)\n",
    "        self.fc2_activation = torch.nn.ReLU()\n",
    "        self.fc2_dropout = torch.nn.Dropout(0.15)\n",
    "        self.attention = torch.nn.MultiheadAttention(embed_dim=embed_dim, num_heads=num_heads)\n",
    "        self.layerFinal = torch.nn.Linear(16*2, 1)\n",
    "\n",
    "    def forward(self, x):\n",
    "\n",
    "        \n",
    "        #print(\"Begin\")\n",
    "        \n",
    "        out = self.layer1(x)\n",
    "        #print(\"first layer\")\n",
    "        out = self.layer2(out)\n",
    "        out = self.layer2_activation(out)\n",
    "        out = self.dropOut1(out)\n",
    "        #print(\"first block\")\n",
    "\n",
    "        out = self.res_block1(out)  \n",
    "        #print(\"Residual layer\")\n",
    "        out = self.layer4(out)\n",
    "        out = self.layer5(out)\n",
    "        out = self.layer5_activation(out)\n",
    "        out = self.dropOut2(out)\n",
    "        #print(\"Sec block\")\n",
    "        out = self.res_block2(out)  \n",
    "\n",
    "        out = self.layer6(out)\n",
    "        out = self.layer7(out)\n",
    "        out = self.layer7_activation(out)\n",
    "        out = self.dropOut3(out)\n",
    "        \"\"\"\n",
    "        out = self.res_block3(out)\n",
    "\n",
    "        out = self.layer65(out)\n",
    "        out = self.layer75(out)\n",
    "        out = self.layer75_activation(out)\n",
    "        out = self.dropOut4(out)\n",
    "        \"\"\"\n",
    "\n",
    "\n",
    "        out = self.global_avg_pool(out)\n",
    "        out = out.view(out.size(0), -1)\n",
    "        #print(\"Past pooling\")\n",
    "       \n",
    "        out = out.unsqueeze(0)  \n",
    "        attn_output, _ = self.attention(out, out, out) \n",
    "        out = attn_output.squeeze(0)  # [batch_size, feature_dim]\n",
    "        #print(\"Past attention\")\n",
    "        out = self.layer8(out)\n",
    "        out = self.layer8_activation(out)\n",
    "        out = self.dropOut4(out)\n",
    "\n",
    "        out = self.fc1(out)\n",
    "        out = self.fc1_activation(out)\n",
    "        out = self.fc1_dropout(out)\n",
    "\n",
    "        out = self.fc2(out)\n",
    "        out = self.fc2_activation(out)\n",
    "        out = self.fc2_dropout(out)\n",
    "        #print(\"Past interconnected\")\n",
    "        out = torch.nn.functional.sigmoid(self.layerFinal(out))\n",
    "        return out"
   ]
  },
  {
   "cell_type": "code",
   "execution_count": 20,
   "metadata": {},
   "outputs": [],
   "source": [
    "#Better loss #ENDED UP NOT USING\n",
    "import torch.nn as nn\n",
    "\n",
    "\n",
    "class CustomBCELoss(nn.Module):\n",
    "    def __init__(self, penalty_factor):\n",
    "        super(CustomBCELoss, self).__init__()\n",
    "        self.bce_loss = nn.BCEWithLogitsLoss()\n",
    "        self.penalty_factor = penalty_factor\n",
    "\n",
    "    def forward(self, outputs, targets):\n",
    "        bce_loss = self.bce_loss(outputs, targets)\n",
    "        probs = torch.sigmoid(outputs)\n",
    "        penalty = self.penalty_factor * torch.mean((probs - 0.5).abs())\n",
    "        total_loss = bce_loss + penalty\n",
    "        \n",
    "        return total_loss\n"
   ]
  },
  {
   "cell_type": "code",
   "execution_count": 21,
   "metadata": {},
   "outputs": [],
   "source": [
    "epochs = 5\n",
    "lr = 0.0001\n",
    "\n",
    "model = AttentionModel(train_x.shape[1], 256, 64)\n",
    "#model = RNNWithAttention(2, 1024, 1, 2, 0.15)\n",
    "\n",
    "loss_func = torch.nn.BCELoss()\n",
    "\n",
    "optimizer = torch.optim.Adam(model.parameters(), lr=0.001, weight_decay=1e-5)\n",
    "#Helps make an adaptive learning rate\n",
    "scheduler = torch.optim.lr_scheduler.StepLR(optimizer, step_size=10, gamma=0.1)\n"
   ]
  },
  {
   "cell_type": "code",
   "execution_count": 22,
   "metadata": {},
   "outputs": [],
   "source": [
    "train_loss = []\n",
    "train_acc = []\n",
    "val_acc = []\n",
    "val_loss = []\n",
    "correct = 0"
   ]
  },
  {
   "cell_type": "code",
   "execution_count": 23,
   "metadata": {},
   "outputs": [
    {
     "name": "stdout",
     "output_type": "stream",
     "text": [
      "Epoch [1/5], Train Loss: 0.0763, Val Loss: 0.0748685970902443, Val Acc: 0.9745\n",
      "Epoch [2/5], Train Loss: 0.0311, Val Loss: 0.06610095500946045, Val Acc: 0.9736\n",
      "Epoch [3/5], Train Loss: 0.0322, Val Loss: 0.049230676144361496, Val Acc: 0.9770\n",
      "Epoch [4/5], Train Loss: 0.0157, Val Loss: 0.05268125981092453, Val Acc: 0.9839\n",
      "Epoch [5/5], Train Loss: 0.0116, Val Loss: 0.035097140818834305, Val Acc: 0.9813\n"
     ]
    }
   ],
   "source": [
    "clip_value = 1.0\n",
    "for epoch in range(epochs):\n",
    "    model.train()\n",
    "    for k in range(batch_split_num):\n",
    "        optimizer.zero_grad()\n",
    "        \n",
    "        train_outputs = model(train_batches_x[k])\n",
    "        \n",
    "        \n",
    "        loss = loss_func(train_outputs, train_batches_y[k])\n",
    "\n",
    "       \n",
    "        loss.backward()\n",
    "        #Prevents exploding gradients \n",
    "        torch.nn.utils.clip_grad_norm_(model.parameters(), clip_value)\n",
    "        optimizer.step()\n",
    "        predictions = (train_outputs >= 0.5).float()\n",
    "        for v in range(len(train_outputs)):\n",
    "            if predictions[v] == train_batches_y[k][v]:\n",
    "                correct += 1    \n",
    "\n",
    "        \n",
    "    \n",
    "\n",
    "\n",
    "    #print(train_outputs[:8].view(-1))\n",
    "    #print(train_batches_y[-1][:8].view(-1))\n",
    "    train_loss.append(loss.item())\n",
    "    scheduler.step()\n",
    "    total = train_y.shape[0]\n",
    "    accuracy = correct / total\n",
    "    train_acc.append(accuracy)\n",
    "    correct = 0\n",
    "    #print('epoch {}, loss {}'.format(epoch, loss.item()))\n",
    "   \n",
    "    #print(\"Got through training step\")\n",
    "    with torch.no_grad():\n",
    "        model.eval()\n",
    "        correct = 0\n",
    "        total = val_y.shape[0]\n",
    "\n",
    "        for j in range(val_batch_split):\n",
    "            val_out = model(val_batches_x[j])\n",
    "            predictions = (val_out >= 0.5).float()\n",
    "            val_lose = loss_func(val_out, val_batches_y[j])\n",
    "\n",
    "\n",
    "            for c in range(len(val_out)):\n",
    "                if predictions[c] == val_batches_y[j][c]:\n",
    "                    correct += 1\n",
    "        \n",
    "        accuracy = correct / total\n",
    "        val_acc.append(accuracy)\n",
    "        val_loss.append(val_lose.item())\n",
    "\n",
    "    print(f'Epoch [{epoch + 1}/{epochs}], Train Loss: {loss.item():.4f}, Val Loss: {val_lose.item()}, Val Acc: {accuracy:.4f}')"
   ]
  },
  {
   "cell_type": "code",
   "execution_count": 24,
   "metadata": {},
   "outputs": [
    {
     "name": "stdout",
     "output_type": "stream",
     "text": [
      "Best Threshold: 0.7881144881248474\n"
     ]
    }
   ],
   "source": [
    "from sklearn.metrics import precision_recall_curve\n",
    "\n",
    "# Assuming `outputs` are the predicted probabilities and `y_true` are the true labels\n",
    "precision, recall, thresholds = precision_recall_curve(val_batches_y[-1], val_out)\n",
    "\n",
    "# Calculate F1 score for each threshold\n",
    "f1_scores = 2 * (precision * recall) / (precision + recall)\n",
    "best_threshold = thresholds[np.argmax(f1_scores)]\n",
    "\n",
    "print(f'Best Threshold: {best_threshold}')\n",
    "\n",
    "# Use the optimal threshold for predictions\n",
    "predicted = (val_out >= best_threshold).float()\n"
   ]
  },
  {
   "cell_type": "code",
   "execution_count": 35,
   "metadata": {},
   "outputs": [
    {
     "data": {
      "image/png": "[encoded data removed]",
      "text/plain": [
       "<Figure size 640x480 with 1 Axes>"
      ]
     },
     "metadata": {},
     "output_type": "display_data"
    }
   ],
   "source": [
    "\n",
    "import seaborn as sns\n",
    "\n",
    "sns.set(style = 'whitegrid', font_scale = 1)\n",
    "\n",
    "\n",
    "\n",
    "plt.plot(train_loss, linewidth = 3, label='Train Loss')\n",
    "plt.plot(val_loss, linewidth = 3, color = 'gold', label='Validation loss')\n",
    "plt.legend(loc='upper center')\n",
    "plt.title(\"Train/Validation Loss v Epochs\")\n",
    "plt.ylabel(\"loss\")\n",
    "plt.xlabel(\"Epochs\")\n",
    "sns.despine()\n",
    "\n"
   ]
  },
  {
   "cell_type": "code",
   "execution_count": 34,
   "metadata": {},
   "outputs": [
    {
     "data": {
      "image/png": "[encoded data removed]",
      "text/plain": [
       "<Figure size 640x480 with 1 Axes>"
      ]
     },
     "metadata": {},
     "output_type": "display_data"
    }
   ],
   "source": [
    "\n",
    "\n",
    "plt.plot(val_acc, linewidth = 3, color = 'gold', label='Validation Accuracy')\n",
    "plt.legend(loc='upper center')\n",
    "plt.title(\"Validation Accuracy v Epochs\")\n",
    "plt.ylabel(\"Accuracy\")\n",
    "plt.xlabel(\"Epochs\")\n",
    "sns.despine()"
   ]
  }
 ],
 "metadata": {
  "kernelspec": {
   "display_name": "Python 3",
   "language": "python",
   "name": "python3"
  },
  "language_info": {
   "codemirror_mode": {
    "name": "ipython",
    "version": 3
   },
   "file_extension": ".py",
   "mimetype": "text/x-python",
   "name": "python",
   "nbconvert_exporter": "python",
   "pygments_lexer": "ipython3",
   "version": "3.12.4"
  },
  "orig_nbformat": 4
 },
 "nbformat": 4,
 "nbformat_minor": 2
}
