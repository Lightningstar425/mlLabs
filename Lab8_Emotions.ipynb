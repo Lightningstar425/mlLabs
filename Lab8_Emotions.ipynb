{
 "cells": [
  {
   "cell_type": "markdown",
   "id": "c76bd7e6",
   "metadata": {},
   "source": [
    "# Lab 8 Report: \n",
    "## FINAL PROJECT STRATEGIC PLANNING"
   ]
  },
  {
   "cell_type": "markdown",
   "id": "3f5ed902",
   "metadata": {},
   "source": [
    "### Lab 8 Instruction: https://canvas.uw.edu/courses/1548925/files/92225287?wrap=1"
   ]
  },
  {
   "cell_type": "markdown",
   "id": "0098c149",
   "metadata": {},
   "source": [
    "### Team Members:"
   ]
  },
  {
   "cell_type": "markdown",
   "id": "36869478",
   "metadata": {},
   "source": [
    "### Dataset for your project:"
   ]
  },
  {
   "cell_type": "markdown",
   "id": "7b08ff02",
   "metadata": {},
   "source": [
    "#### Feel free to delete or modify pre-written markdown cells below the line"
   ]
  },
  {
   "cell_type": "markdown",
   "id": "3fe993be",
   "metadata": {},
   "source": [
    "---"
   ]
  },
  {
   "cell_type": "markdown",
   "id": "596ea344",
   "metadata": {},
   "source": [
    "## Understanding the Data"
   ]
  },
  {
   "cell_type": "code",
   "execution_count": 389,
   "id": "53027328",
   "metadata": {},
   "outputs": [],
   "source": [
    "import numpy as np\n",
    "import torch\n",
    "\n",
    "%matplotlib inline\n",
    "import matplotlib.pyplot as plt\n",
    "from sklearn.preprocessing import StandardScaler\n",
    "\n",
    "import pandas as pd"
   ]
  },
  {
   "cell_type": "code",
   "execution_count": 390,
   "id": "1f49c54b",
   "metadata": {},
   "outputs": [
    {
     "name": "stdout",
     "output_type": "stream",
     "text": [
      "<bound method NDFrame.head of       # mean_0_a  mean_1_a  mean_2_a  mean_3_a  mean_4_a  mean_d_0_a  \\\n",
      "0          4.620      30.3    -356.0     15.60      26.3       1.070   \n",
      "1         28.800      33.1      32.0     25.80      22.8       6.550   \n",
      "2          8.900      29.4    -416.0     16.70      23.7      79.900   \n",
      "3         14.900      31.6    -143.0     19.80      24.3      -0.584   \n",
      "4         28.300      31.3      45.2     27.30      24.5      34.800   \n",
      "...          ...       ...       ...       ...       ...         ...   \n",
      "2127      32.400      32.2      32.2     30.80      23.4       1.640   \n",
      "2128      16.300      31.3    -284.0     14.30      23.9       4.200   \n",
      "2129      -0.547      28.3    -259.0     15.80      26.7       9.080   \n",
      "2130      16.800      19.9    -288.0      8.34      26.0       2.460   \n",
      "2131      27.000      32.0      31.8     25.00      28.9       4.990   \n",
      "\n",
      "      mean_d_1_a  mean_d_2_a  mean_d_3_a  mean_d_4_a  ...  fft_741_b  \\\n",
      "0          0.411     -15.700       2.060        3.15  ...      23.50   \n",
      "1          1.680       2.880       3.830       -4.82  ...     -23.30   \n",
      "2          3.360      90.200      89.900        2.03  ...     462.00   \n",
      "3         -0.284       8.820       2.300       -1.97  ...     299.00   \n",
      "4         -5.790       3.060      41.400        5.52  ...      12.00   \n",
      "...          ...         ...         ...         ...  ...        ...   \n",
      "2127      -2.030       0.647      -0.121       -1.10  ...     -21.70   \n",
      "2128       1.090       4.460       4.720        6.63  ...     594.00   \n",
      "2129       6.900      12.700       2.030        4.64  ...     370.00   \n",
      "2130       1.580     -16.000       1.690        4.74  ...     124.00   \n",
      "2131       1.950       6.210       3.490       -3.51  ...       1.95   \n",
      "\n",
      "      fft_742_b  fft_743_b  fft_744_b  fft_745_b  fft_746_b  fft_747_b  \\\n",
      "0        20.300     20.300      23.50     -215.0     280.00    -162.00   \n",
      "1       -21.800    -21.800     -23.30      182.0       2.57     -31.60   \n",
      "2      -233.000   -233.000     462.00     -267.0     281.00    -148.00   \n",
      "3      -243.000   -243.000     299.00      132.0     -12.40       9.53   \n",
      "4        38.100     38.100      12.00      119.0     -17.60      23.90   \n",
      "...         ...        ...        ...        ...        ...        ...   \n",
      "2127      0.218      0.218     -21.70       95.2     -19.90      47.20   \n",
      "2128   -324.000   -324.000     594.00      -35.5     142.00     -59.80   \n",
      "2129   -160.000   -160.000     370.00      408.0    -169.00     -10.50   \n",
      "2130    -27.600    -27.600     124.00     -656.0     552.00    -271.00   \n",
      "2131      1.810      1.810       1.95      110.0      -6.71      22.80   \n",
      "\n",
      "      fft_748_b  fft_749_b     label  \n",
      "0       -162.00     280.00  NEGATIVE  \n",
      "1        -31.60       2.57   NEUTRAL  \n",
      "2       -148.00     281.00  POSITIVE  \n",
      "3          9.53     -12.40  POSITIVE  \n",
      "4         23.90     -17.60   NEUTRAL  \n",
      "...         ...        ...       ...  \n",
      "2127      47.20     -19.90   NEUTRAL  \n",
      "2128     -59.80     142.00  POSITIVE  \n",
      "2129     -10.50    -169.00  NEGATIVE  \n",
      "2130    -271.00     552.00  NEGATIVE  \n",
      "2131      22.80      -6.71   NEUTRAL  \n",
      "\n",
      "[2132 rows x 2549 columns]>\n",
      "(2132, 2549)\n",
      "(2132, 2548)\n",
      "(2132,)\n"
     ]
    }
   ],
   "source": [
    "data = pd.read_csv(\"/Users/mariea/Desktop/Lab8/emotions.csv\")\n",
    "print(data.head)\n",
    "data = data.to_numpy()\n",
    "print(data.shape)\n",
    "x_data = data[:, :2548]\n",
    "targets = data[:, 2548]\n",
    "print(x_data.shape)\n",
    "print(targets.shape)\n",
    "\n"
   ]
  },
  {
   "cell_type": "code",
   "execution_count": 391,
   "id": "250db856",
   "metadata": {},
   "outputs": [
    {
     "name": "stdout",
     "output_type": "stream",
     "text": [
      "[-0.69608594  0.35491199 -1.21724379 ... -1.06084278 -1.06084278\n",
      "  0.91015287]\n",
      "float64\n",
      "object\n"
     ]
    }
   ],
   "source": [
    "scaler = StandardScaler()\n",
    "x_data = scaler.fit_transform(x_data)\n",
    "print(x_data[0])\n",
    "\n",
    "targets = targets.reshape(-1, 1)\n",
    "print(x_data.dtype)\n",
    "print(targets.dtype)"
   ]
  },
  {
   "cell_type": "code",
   "execution_count": 392,
   "metadata": {},
   "outputs": [
    {
     "name": "stdout",
     "output_type": "stream",
     "text": [
      "[[0]\n",
      " [1]\n",
      " [2]]\n",
      "object\n"
     ]
    }
   ],
   "source": [
    "name_to_num = {'NEGATIVE': 0, 'NEUTRAL': 1, 'POSITIVE': 2}\n",
    "for i in range(0, len(targets)):\n",
    "    targets[i][0] = name_to_num[targets[i][0]]\n",
    "\n",
    "print(targets[:3])\n",
    "print(targets.dtype)\n"
   ]
  },
  {
   "cell_type": "code",
   "execution_count": 393,
   "id": "bce64720",
   "metadata": {},
   "outputs": [
    {
     "name": "stdout",
     "output_type": "stream",
     "text": [
      "int64\n"
     ]
    }
   ],
   "source": [
    "targets = np.concatenate(targets).astype(int)\n",
    "print(targets.dtype)"
   ]
  },
  {
   "cell_type": "code",
   "execution_count": 394,
   "id": "9e14cab1",
   "metadata": {},
   "outputs": [
    {
     "name": "stdout",
     "output_type": "stream",
     "text": [
      "(300, 2548)\n",
      "(300,)\n",
      "(300, 2548)\n",
      "(300,)\n",
      "(1532, 2548)\n",
      "(1532,)\n"
     ]
    }
   ],
   "source": [
    "test_features = x_data[:300,:]\n",
    "test_targets = targets[:300]\n",
    "\n",
    "validation_features = x_data[300:600, :]\n",
    "validation_targets = targets[300:600]\n",
    "\n",
    "train_features = x_data[600:,:]\n",
    "train_targets = targets[600:]\n",
    "\n",
    "\n",
    "print(test_features.shape)\n",
    "print(test_targets.shape)\n",
    "\n",
    "print(validation_features.shape)\n",
    "print(validation_targets.shape)\n",
    "\n",
    "print(train_features.shape)\n",
    "print(train_targets.shape)"
   ]
  },
  {
   "cell_type": "code",
   "execution_count": 395,
   "id": "1c47e455",
   "metadata": {},
   "outputs": [],
   "source": [
    "class EmotionsCNN(torch.nn.Module):\n",
    "    def __init__(self, input_dim, hidden_dim, output_dim):\n",
    "        super(EmotionsCNN, self).__init__()\n",
    "        self.linear1 = torch.nn.Linear(input_dim, hidden_dim)\n",
    "        self.linear2 = torch.nn.Linear(hidden_dim, 2048)\n",
    "        self.linear3 = torch.nn.Linear(2048, 1024)\n",
    "        self.linear4 = torch.nn.Linear(1024, 512)\n",
    "        self.linear5 = torch.nn.Linear(512, output_dim)\n",
    "\n",
    "        self.bn1 = torch.nn.BatchNorm1d(hidden_dim)\n",
    "        self.bn2 = torch.nn.BatchNorm1d(2048)\n",
    "        self.bn3 = torch.nn.BatchNorm1d(1024)\n",
    "        self.bn4 = torch.nn.BatchNorm1d(512)\n",
    "        \n",
    "\n",
    "    def forward(self, x):\n",
    "        out = torch.nn.functional.relu(self.linear1(x))\n",
    "        out = self.bn1(out)\n",
    "        out = torch.nn.functional.relu(self.linear2(out))\n",
    "        out = self.bn2(out)\n",
    "        out = torch.nn.functional.relu(self.linear3(out))\n",
    "        out = self.bn3(out)\n",
    "        out = torch.nn.functional.relu(self.linear4(out))\n",
    "        out = self.bn4(out)\n",
    "        out = self.linear5(out)\n",
    "\n",
    "\n",
    "        return out"
   ]
  },
  {
   "cell_type": "code",
   "execution_count": 396,
   "id": "391d84c3",
   "metadata": {},
   "outputs": [
    {
     "data": {
      "text/plain": [
       "EmotionsCNN(\n",
       "  (linear1): Linear(in_features=2548, out_features=4096, bias=True)\n",
       "  (linear2): Linear(in_features=4096, out_features=2048, bias=True)\n",
       "  (linear3): Linear(in_features=2048, out_features=1024, bias=True)\n",
       "  (linear4): Linear(in_features=1024, out_features=512, bias=True)\n",
       "  (linear5): Linear(in_features=512, out_features=3, bias=True)\n",
       "  (bn1): BatchNorm1d(4096, eps=1e-05, momentum=0.1, affine=True, track_running_stats=True)\n",
       "  (bn2): BatchNorm1d(2048, eps=1e-05, momentum=0.1, affine=True, track_running_stats=True)\n",
       "  (bn3): BatchNorm1d(1024, eps=1e-05, momentum=0.1, affine=True, track_running_stats=True)\n",
       "  (bn4): BatchNorm1d(512, eps=1e-05, momentum=0.1, affine=True, track_running_stats=True)\n",
       ")"
      ]
     },
     "execution_count": 396,
     "metadata": {},
     "output_type": "execute_result"
    }
   ],
   "source": [
    "torch.manual_seed(55)\n",
    "\n",
    "\n",
    "cnn = EmotionsCNN(input_dim=train_features.shape[1], hidden_dim=4096, output_dim=3)\n",
    "\n",
    "learning_rate = 0.0003\n",
    "epochs = 20\n",
    "batchsize = 300\n",
    "\n",
    "loss_func = torch.nn.CrossEntropyLoss()\n",
    "optimizer = torch.optim.Adam(cnn.parameters(), lr=learning_rate)\n",
    "\n",
    "cnn"
   ]
  },
  {
   "cell_type": "code",
   "execution_count": 397,
   "id": "dc2e7f59",
   "metadata": {},
   "outputs": [],
   "source": [
    "train_loss_list = []\n",
    "\n",
    "validation_accuracy_list = np.zeros((epochs,))\n",
    "\n",
    "train_features = torch.from_numpy(train_features).float()\n",
    "train_targets = torch.from_numpy(train_targets).long()\n",
    "\n",
    "validation_features = torch.from_numpy(validation_features).float()\n",
    "validation_targets = torch.from_numpy(validation_targets).long()\n",
    "\n",
    "\n",
    "test_features = torch.from_numpy(test_features).float()\n",
    "test_targets = torch.from_numpy(test_targets).long()\n",
    "\n",
    "\n",
    "\n",
    "\n",
    "train_batches_features = torch.split(train_features, batchsize)\n",
    "train_batches_targets = torch.split(train_targets, batchsize)\n",
    "\n",
    "batch_split_num = len(train_batches_features)"
   ]
  },
  {
   "cell_type": "code",
   "execution_count": 398,
   "id": "d7e7f126",
   "metadata": {},
   "outputs": [
    {
     "name": "stdout",
     "output_type": "stream",
     "text": [
      "epoch 0, loss 0.18022435903549194\n",
      "epoch 1, loss 0.04036987945437431\n",
      "epoch 2, loss 0.005012006498873234\n",
      "epoch 3, loss 0.0028668418526649475\n",
      "epoch 4, loss 0.002759535564109683\n",
      "epoch 5, loss 0.000830235832836479\n",
      "epoch 6, loss 0.0009109450038522482\n",
      "epoch 7, loss 0.0004883299698121846\n",
      "epoch 8, loss 0.0004035834572277963\n",
      "epoch 9, loss 0.00036618649028241634\n",
      "epoch 10, loss 0.0003333693603053689\n",
      "epoch 11, loss 0.0002991473884321749\n",
      "epoch 12, loss 0.00027189531829208136\n",
      "epoch 13, loss 0.00025090447161346674\n",
      "epoch 14, loss 0.00023431815498042852\n",
      "epoch 15, loss 0.00022052033455111086\n",
      "epoch 16, loss 0.0002082858409266919\n",
      "epoch 17, loss 0.00019697050447575748\n",
      "epoch 18, loss 0.00018658925546333194\n",
      "epoch 19, loss 0.0001772874966263771\n"
     ]
    }
   ],
   "source": [
    "for epoch in range(epochs):\n",
    "    for k in range(batch_split_num):\n",
    "        optimizer.zero_grad()\n",
    "        train_outputs = cnn(train_batches_features[k])\n",
    "        loss = loss_func(train_outputs, train_batches_targets[k])\n",
    "\n",
    "       \n",
    "        loss.backward()\n",
    "        optimizer.step()\n",
    "    train_loss_list.append(loss.item())\n",
    "    print('epoch {}, loss {}'.format(epoch, loss.item()))\n",
    "    with torch.no_grad():\n",
    "        validation_outputs = cnn(validation_features)\n",
    "        \n",
    "        correct = (torch.argmax(validation_outputs, dim=1) == validation_targets).type(torch.FloatTensor)\n",
    "        validation_accuracy_list[epoch] = correct.mean()\n",
    "    \n"
   ]
  },
  {
   "cell_type": "code",
   "execution_count": 399,
   "id": "7cafad17",
   "metadata": {},
   "outputs": [
    {
     "data": {
      "image/png": "[encoded data removed]",
      "text/plain": [
       "<Figure size 1080x648 with 2 Axes>"
      ]
     },
     "metadata": {},
     "output_type": "display_data"
    }
   ],
   "source": [
    "import seaborn as sns\n",
    "\n",
    "sns.set(style = 'whitegrid', font_scale = 1)\n",
    "\n",
    "plt.figure(figsize = (15, 9))\n",
    "\n",
    "plt.subplot(2, 1, 1)\n",
    "plt.plot(train_loss_list, linewidth = 3)\n",
    "plt.ylabel(\"training loss\")\n",
    "plt.xlabel(\"iterations\")\n",
    "sns.despine()\n",
    "\n",
    "plt.subplot(2, 1, 2)\n",
    "plt.plot(validation_accuracy_list, linewidth = 3, color = 'gold')\n",
    "plt.ylabel(\"validation accuracy\")\n",
    "sns.despine()"
   ]
  },
  {
   "cell_type": "code",
   "execution_count": 400,
   "id": "0bcf2b94",
   "metadata": {},
   "outputs": [
    {
     "name": "stdout",
     "output_type": "stream",
     "text": [
      "Testing Accuracy: 95.6666648387909 %\n"
     ]
    }
   ],
   "source": [
    "with torch.no_grad():\n",
    "    test_predict = cnn(test_features)\n",
    "    \n",
    "    test_correct = (torch.argmax(test_predict, dim=1) == test_targets).type(torch.FloatTensor)\n",
    "    print(\"Testing Accuracy:\", test_correct.mean().numpy()*100, \"%\")"
   ]
  },
  {
   "cell_type": "code",
   "execution_count": 401,
   "id": "4affccb6",
   "metadata": {},
   "outputs": [
    {
     "name": "stdout",
     "output_type": "stream",
     "text": [
      "Accuracy of NEGATIVE: 97.98%\n",
      "Accuracy of NEUTRAL: 94.34%\n",
      "Accuracy of POSITIVE: 94.74%\n"
     ]
    }
   ],
   "source": [
    "\n",
    "num_to_name = {0: 'NEGATIVE', 1: 'NEUTRAL', 2: 'POSITIVE'}\n",
    "\n",
    "all_labels = []\n",
    "all_predictions = []\n",
    "\n",
    "with torch.no_grad():\n",
    "   \n",
    "        \n",
    "    outputs = cnn(test_features)\n",
    "    _, predicted = torch.max(outputs, 1)\n",
    "    all_labels.extend(test_targets.numpy())\n",
    "    \n",
    "    all_predictions.extend(predicted.numpy())\n",
    "    \n",
    "all_labels = np.array(all_labels)\n",
    "all_predictions = np.array(all_predictions)\n",
    "\n",
    "for i in range(0, 3):\n",
    "    class_indices = np.where(all_labels == i)\n",
    "    class_correct = np.sum(all_predictions[class_indices] == all_labels[class_indices])\n",
    "    class_total = len(class_indices[0])\n",
    "    \n",
    "    print(f'Accuracy of {num_to_name[i]}: {100 * class_correct / class_total:.2f}%')\n"
   ]
  }
 ],
 "metadata": {
  "kernelspec": {
   "display_name": "Python 3 (ipykernel)",
   "language": "python",
   "name": "python3"
  },
  "language_info": {
   "codemirror_mode": {
    "name": "ipython",
    "version": 3
   },
   "file_extension": ".py",
   "mimetype": "text/x-python",
   "name": "python",
   "nbconvert_exporter": "python",
   "pygments_lexer": "ipython3",
   "version": "3.9.12"
  }
 },
 "nbformat": 4,
 "nbformat_minor": 5
}
